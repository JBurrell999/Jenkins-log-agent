{
 "cells": [
  {
   "cell_type": "markdown",
   "id": "f74dc9a1",
   "metadata": {},
   "source": [
    "# Name: \n",
    "\n",
    "\n",
    "# Instructions\n",
    "\n",
    "* Add your name above\n",
    "* Fill in the empty chunks with your code. \n",
    "* Do not add any code chunks in your final submission besides the ones already here. \n",
    "* Use **no** additional modules. \n",
    "* You must submit your answers on canvas in **HTML** format !!!"
   ]
  },
  {
   "cell_type": "markdown",
   "id": "2bb3963f",
   "metadata": {},
   "source": [
    "# Basic Python:\n",
    "\n",
    "# Question 1.1\n",
    "\n",
    "Create a list called `x_values` that contains first 100 integers in steps of 4"
   ]
  },
  {
   "cell_type": "code",
   "execution_count": 1,
   "id": "92d197e2",
   "metadata": {},
   "outputs": [],
   "source": [
    "# creae x_list\n",
    "x_values = list(range(0, 4*100, 4))\n",
    "\n"
   ]
  },
  {
   "cell_type": "markdown",
   "id": "556fe318",
   "metadata": {},
   "source": [
    "# Question 1.2\n",
    "\n",
    "Write three loops that cubes each element of `x_values`:\n",
    "\n",
    "1. using explicit indexing\n",
    "2. using implicit indexing\n",
    "3. using list comprehension"
   ]
  },
  {
   "cell_type": "code",
   "execution_count": 2,
   "id": "aa2a46f2",
   "metadata": {},
   "outputs": [],
   "source": [
    "# explicit indexing\n",
    "cubes_explicit = []\n",
    "for i in range(len(x_values)):\n",
    "    cubes_explicit.append(x_values[i] ** 3)\n"
   ]
  },
  {
   "cell_type": "code",
   "execution_count": 3,
   "id": "ac7793e5",
   "metadata": {},
   "outputs": [],
   "source": [
    "# implicit indexing\n",
    "cubes_implicit = []\n",
    "for v in x_values:\n",
    "    cubes_implicit.append(v ** 3)\n"
   ]
  },
  {
   "cell_type": "code",
   "execution_count": null,
   "id": "f79dcda0",
   "metadata": {},
   "outputs": [],
   "source": [
    "# list comprehension\n",
    "cubes_comp = [v ** 3 for v in x_values]"
   ]
  },
  {
   "cell_type": "markdown",
   "id": "126a0b38",
   "metadata": {},
   "source": [
    "# Question 1.3\n",
    "\n",
    "Write a function called `cool_sum` which takes two arguments and performs opperations as follows:\n",
    "\n",
    "1. If both arguments are lists append the first list with the second list, for example if arguments are [1, 2, 3] and [4, 5], the functions should output [1, 2, 3, 4, 5]\n",
    "2. If both arguments are numbers (integers or floats) perform standard summation, for example if arguments are 2 and 3.4 the output should be 5.4\n",
    "3. If one of the arguments is list and another number (integer or float) add that number to each element of the list, for example if arguments are [1, 2, 3] and 5 the output should be [6, 7, 8]\n",
    "4. If either of the argument is neither list nor number print \"Error: something unexpected happend\""
   ]
  },
  {
   "cell_type": "code",
   "execution_count": 123,
   "id": "b740ddef",
   "metadata": {},
   "outputs": [],
   "source": [
    "# write your function namd cool_sum() here:\n",
    "\n",
    "\n"
   ]
  },
  {
   "cell_type": "code",
   "execution_count": 124,
   "id": "2493aed4",
   "metadata": {},
   "outputs": [],
   "source": [
    "# test your function with two lists [1, 2, 3] and [4, 5]\n",
    "\n",
    "\n"
   ]
  },
  {
   "cell_type": "code",
   "execution_count": 125,
   "id": "0c9182e1",
   "metadata": {},
   "outputs": [],
   "source": [
    "# test your function with two numbers 2 and 3.4\n",
    "\n",
    "\n"
   ]
  },
  {
   "cell_type": "code",
   "execution_count": 126,
   "id": "f30436b2",
   "metadata": {},
   "outputs": [],
   "source": [
    "# test your function with fist argument to be a list [1, 2, 3] and the second one number 5\n",
    "\n",
    "\n"
   ]
  },
  {
   "cell_type": "code",
   "execution_count": 127,
   "id": "9b15b0d1",
   "metadata": {},
   "outputs": [],
   "source": [
    "# test your function with fist argument to be a number 5 and the second one list [1, 2, 3]\n",
    "\n",
    "\n"
   ]
  },
  {
   "cell_type": "markdown",
   "id": "da5e4c1c",
   "metadata": {},
   "source": [
    "# Numpy\n",
    "\n",
    "\n",
    "# Question 2.1\n",
    "\n",
    "\n",
    "Write a function called `sim_time_series(x_0, alpha, n)` that generates a correlated time series:\n",
    "\n",
    "$$\n",
    "x_{t+1} = \\alpha x_t + \\epsilon_t\n",
    "$$\n",
    "\n",
    "where $\\epsilon_t \\sim N(\\mu = 0, \\sigma^2 = 1)$.\n",
    "\n",
    "The argument `x_0` is the first element of time series `alpha` is $\\alpha$ and `n` is the number of observations. "
   ]
  },
  {
   "cell_type": "code",
   "execution_count": 6,
   "id": "0c68d027",
   "metadata": {},
   "outputs": [],
   "source": [
    "# import only numpy and matplotlib\n",
    "import numpy as np\n",
    "import matplotlib.pyplot as plt"
   ]
  },
  {
   "cell_type": "code",
   "execution_count": 129,
   "id": "520a9ddc",
   "metadata": {},
   "outputs": [],
   "source": [
    "# your function here:\n",
    "\n",
    "\n"
   ]
  },
  {
   "cell_type": "markdown",
   "id": "0371dfa6",
   "metadata": {},
   "source": [
    "Run your function with $x_0=10$, $\\alpha = 0.5$ and $n = 300$, store the results in the object `ts`, then plot it."
   ]
  },
  {
   "cell_type": "code",
   "execution_count": 130,
   "id": "f466516d",
   "metadata": {},
   "outputs": [],
   "source": [
    "# your code here\n",
    "\n",
    "\n"
   ]
  },
  {
   "cell_type": "markdown",
   "id": "98162c19",
   "metadata": {},
   "source": [
    "Remember function defined above `cool_sum` was not defined for arguments like numpy array. Test the function `cool_sum` where the first argument is `ts` and the second argument is some list or number. \n",
    "\n",
    "**Hint: the output of the function must be `Error: something unexpected happend`**"
   ]
  },
  {
   "cell_type": "code",
   "execution_count": 131,
   "id": "0f31e3a0",
   "metadata": {},
   "outputs": [],
   "source": [
    "# your code here\n"
   ]
  },
  {
   "cell_type": "markdown",
   "id": "6887bc16",
   "metadata": {},
   "source": [
    "# Question 2.2\n",
    "\n",
    "Flip a biased coin where $P(heads = 0.75)$ 1000 times. Then discuss why simulated data shows that the coin is biased."
   ]
  },
  {
   "cell_type": "code",
   "execution_count": 132,
   "id": "9d8bd288",
   "metadata": {},
   "outputs": [],
   "source": [
    "# your code here\n",
    "\n",
    "\n"
   ]
  },
  {
   "cell_type": "markdown",
   "id": "965ef2a7",
   "metadata": {},
   "source": [
    "# Pandas\n",
    "\n",
    "\n",
    "# Question 3.1\n",
    "\n",
    "Load the data called chess_sample.csv with index column to be the first column (column 0). Notice I have not imported any packages so you need to do it yourself."
   ]
  },
  {
   "cell_type": "code",
   "execution_count": 133,
   "id": "e5fb9280",
   "metadata": {},
   "outputs": [],
   "source": [
    "# import pandas package\n",
    "\n",
    "\n"
   ]
  },
  {
   "cell_type": "code",
   "execution_count": 135,
   "id": "065b9071",
   "metadata": {},
   "outputs": [],
   "source": [
    "#load the data called chess_sample.csv with index column to be the first column (column 0)\n",
    "\n",
    "\n",
    "\n",
    "#look at the head of the data\n",
    "\n",
    "\n"
   ]
  },
  {
   "cell_type": "markdown",
   "id": "52843040",
   "metadata": {},
   "source": [
    "The dataset is a sample from the scraped data that I got from chess.com. The data is from 2017. Here is the column discription:\n",
    "- \"player\"-name of the player\n",
    "- \"rating\"-player's rating on the platform, higher rating means better player\n",
    "- \"color_peices\" - binary variable with value of 1 if the player was playing with white peices and 0 if the player was playing with the black pieces\n",
    "- outcome - is 1 if player won, 0 if lost and 0.5 if draw. \n",
    "- opponent - name of the opponent in a given game\n",
    "- opp-rating - rating of the opponent\n",
    "- start_time - when the current game started\n",
    "- end_time - when the current game ended\n",
    "\n",
    "# Question 3.2\n",
    "\n",
    "The columns start_time and end_time are in the strange format, tranform them to human readable format. You need to google how to convert integer time to date and time and when you convert make sure all the games are from 2017.\n",
    "\n",
    "**Hint:** you can import and use `datetime` module"
   ]
  },
  {
   "cell_type": "code",
   "execution_count": 136,
   "id": "ff7fe16b",
   "metadata": {},
   "outputs": [],
   "source": [
    "# your code here \n",
    "\n",
    "\n"
   ]
  },
  {
   "cell_type": "markdown",
   "id": "cbd22f38",
   "metadata": {},
   "source": [
    "# Question 3.3\n",
    "\n",
    "Calculate the total number of games played by each player in 2017. Show the result as a pandas series in which index is player's name and the values are total number of games played.  "
   ]
  },
  {
   "cell_type": "code",
   "execution_count": 137,
   "id": "076174b7",
   "metadata": {},
   "outputs": [],
   "source": [
    "# your code here\n",
    "\n",
    "\n"
   ]
  },
  {
   "cell_type": "code",
   "execution_count": 138,
   "id": "4a918ed8",
   "metadata": {},
   "outputs": [],
   "source": [
    "# Plot the histogram for number of games\n",
    "\n",
    "\n"
   ]
  },
  {
   "cell_type": "markdown",
   "id": "4bcc80b7",
   "metadata": {},
   "source": [
    "# Question 3.4\n",
    "\n",
    "Calculate the share of each outcome type. That is what is the percentage of games that ended with win, draw and loss."
   ]
  },
  {
   "cell_type": "code",
   "execution_count": 139,
   "id": "9ebcdb4b",
   "metadata": {},
   "outputs": [],
   "source": [
    "# your code here\n",
    "\n",
    "\n"
   ]
  },
  {
   "cell_type": "markdown",
   "id": "60c49056",
   "metadata": {},
   "source": [
    "You will see that the share of draw is very low so, change the outcome column as follows: if the outcome is win or loss, keep the current type. If the outcome is a draw, change it to 1 (win) if the the opponent had higher rating and change it to 0 (loss) if the opponent had a lower rating."
   ]
  },
  {
   "cell_type": "code",
   "execution_count": 140,
   "id": "633ff835",
   "metadata": {},
   "outputs": [],
   "source": [
    "# your code here\n",
    "\n",
    "\n",
    "\n"
   ]
  },
  {
   "cell_type": "code",
   "execution_count": 141,
   "id": "7e7ebced",
   "metadata": {},
   "outputs": [],
   "source": [
    "# Check to make sure there are no draws in the dataset.\n",
    "\n",
    "\n",
    "\n"
   ]
  }
 ],
 "metadata": {
  "kernelspec": {
   "display_name": ".venv (3.13.2)",
   "language": "python",
   "name": "python3"
  },
  "language_info": {
   "codemirror_mode": {
    "name": "ipython",
    "version": 3
   },
   "file_extension": ".py",
   "mimetype": "text/x-python",
   "name": "python",
   "nbconvert_exporter": "python",
   "pygments_lexer": "ipython3",
   "version": "3.13.2"
  }
 },
 "nbformat": 4,
 "nbformat_minor": 5
}
